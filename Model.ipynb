{
 "cells": [
  {
   "cell_type": "code",
   "execution_count": 1,
   "metadata": {},
   "outputs": [
    {
     "name": "stdout",
     "output_type": "stream",
     "text": [
      "(1258, 4)\n"
     ]
    },
    {
     "data": {
      "text/html": [
       "<div>\n",
       "<style scoped>\n",
       "    .dataframe tbody tr th:only-of-type {\n",
       "        vertical-align: middle;\n",
       "    }\n",
       "\n",
       "    .dataframe tbody tr th {\n",
       "        vertical-align: top;\n",
       "    }\n",
       "\n",
       "    .dataframe thead th {\n",
       "        text-align: right;\n",
       "    }\n",
       "</style>\n",
       "<table border=\"1\" class=\"dataframe\">\n",
       "  <thead>\n",
       "    <tr style=\"text-align: right;\">\n",
       "      <th></th>\n",
       "      <th>cat</th>\n",
       "      <th>title</th>\n",
       "      <th>ingredients</th>\n",
       "      <th>instructions</th>\n",
       "    </tr>\n",
       "  </thead>\n",
       "  <tbody>\n",
       "    <tr>\n",
       "      <th>0</th>\n",
       "      <td>appetizer</td>\n",
       "      <td>Apple Cranberry Pecan Salad</td>\n",
       "      <td>6 cups baby spinach 1 Granny Smith apple, thi...</td>\n",
       "      <td>To make the vinaigrette, whisk together olive...</td>\n",
       "    </tr>\n",
       "    <tr>\n",
       "      <th>1</th>\n",
       "      <td>salad</td>\n",
       "      <td>Asian Pasta Salad</td>\n",
       "      <td>8 ounces elbows pasta 1 California Avocado, h...</td>\n",
       "      <td>To make the dressing, whisk together soy sauc...</td>\n",
       "    </tr>\n",
       "    <tr>\n",
       "      <th>2</th>\n",
       "      <td>quick-easy</td>\n",
       "      <td>Vegetable Kabobs</td>\n",
       "      <td>2 cups cremini mushrooms 1 cup cherry tomatoe...</td>\n",
       "      <td>Preheat oven to 400 degrees F. In a small bow...</td>\n",
       "    </tr>\n",
       "    <tr>\n",
       "      <th>3</th>\n",
       "      <td>salad</td>\n",
       "      <td>Harvest Cobb Salad</td>\n",
       "      <td>4 slices bacon, diced 2 large eggs 6 cups cho...</td>\n",
       "      <td>To make the poppy seed dressing, whisk togeth...</td>\n",
       "    </tr>\n",
       "    <tr>\n",
       "      <th>4</th>\n",
       "      <td>chicken-recipes</td>\n",
       "      <td>Quick Chicken and Broccoli Stir Fry</td>\n",
       "      <td>1 pound boneless, skinless chicken breasts, c...</td>\n",
       "      <td>In a small bowl, whisk together soy sauce, oy...</td>\n",
       "    </tr>\n",
       "  </tbody>\n",
       "</table>\n",
       "</div>"
      ],
      "text/plain": [
       "               cat                                title  \\\n",
       "0        appetizer          Apple Cranberry Pecan Salad   \n",
       "1            salad                    Asian Pasta Salad   \n",
       "2       quick-easy                     Vegetable Kabobs   \n",
       "3            salad                   Harvest Cobb Salad   \n",
       "4  chicken-recipes  Quick Chicken and Broccoli Stir Fry   \n",
       "\n",
       "                                         ingredients  \\\n",
       "0   6 cups baby spinach 1 Granny Smith apple, thi...   \n",
       "1   8 ounces elbows pasta 1 California Avocado, h...   \n",
       "2   2 cups cremini mushrooms 1 cup cherry tomatoe...   \n",
       "3   4 slices bacon, diced 2 large eggs 6 cups cho...   \n",
       "4   1 pound boneless, skinless chicken breasts, c...   \n",
       "\n",
       "                                        instructions  \n",
       "0   To make the vinaigrette, whisk together olive...  \n",
       "1   To make the dressing, whisk together soy sauc...  \n",
       "2   Preheat oven to 400 degrees F. In a small bow...  \n",
       "3   To make the poppy seed dressing, whisk togeth...  \n",
       "4   In a small bowl, whisk together soy sauce, oy...  "
      ]
     },
     "execution_count": 1,
     "metadata": {},
     "output_type": "execute_result"
    }
   ],
   "source": [
    "import pandas as pd\n",
    "colin = pd.read_csv('colin_webscrap.csv')\n",
    "colin.drop('Unnamed: 0', axis=1, inplace=True)\n",
    "print(colin.shape)\n",
    "colin.head()"
   ]
  },
  {
   "cell_type": "code",
   "execution_count": 2,
   "metadata": {},
   "outputs": [
    {
     "data": {
      "text/plain": [
       "(1258, 4)"
      ]
     },
     "execution_count": 2,
     "metadata": {},
     "output_type": "execute_result"
    }
   ],
   "source": [
    "# no duplicates\n",
    "colin.drop_duplicates('title').shape"
   ]
  },
  {
   "cell_type": "code",
   "execution_count": 3,
   "metadata": {},
   "outputs": [
    {
     "name": "stdout",
     "output_type": "stream",
     "text": [
      "(1505, 4)\n"
     ]
    },
    {
     "data": {
      "text/html": [
       "<div>\n",
       "<style scoped>\n",
       "    .dataframe tbody tr th:only-of-type {\n",
       "        vertical-align: middle;\n",
       "    }\n",
       "\n",
       "    .dataframe tbody tr th {\n",
       "        vertical-align: top;\n",
       "    }\n",
       "\n",
       "    .dataframe thead th {\n",
       "        text-align: right;\n",
       "    }\n",
       "</style>\n",
       "<table border=\"1\" class=\"dataframe\">\n",
       "  <thead>\n",
       "    <tr style=\"text-align: right;\">\n",
       "      <th></th>\n",
       "      <th>cat</th>\n",
       "      <th>Title</th>\n",
       "      <th>instructions</th>\n",
       "      <th>ingredients</th>\n",
       "    </tr>\n",
       "  </thead>\n",
       "  <tbody>\n",
       "    <tr>\n",
       "      <th>0</th>\n",
       "      <td>main-course</td>\n",
       "      <td>Gnocchi, Mushroom and Kale Soup</td>\n",
       "      <td>Sauté the veggies. Heat oil in a large stockpo...</td>\n",
       "      <td>2 tablespoons olive oil 1 medium white onion, ...</td>\n",
       "    </tr>\n",
       "    <tr>\n",
       "      <th>1</th>\n",
       "      <td>main-course</td>\n",
       "      <td>Greek Salmon Salad Bowls</td>\n",
       "      <td>Cook the salmon. Season the salmon with a few ...</td>\n",
       "      <td>1 pound salmon filets fine sea salt and freshl...</td>\n",
       "    </tr>\n",
       "    <tr>\n",
       "      <th>2</th>\n",
       "      <td>main-course</td>\n",
       "      <td>Pasta alla Boscaiola</td>\n",
       "      <td>Soften the mushrooms. In a medium saucepan, st...</td>\n",
       "      <td>3 cups vegetable broth 1 ounce dried porcini m...</td>\n",
       "    </tr>\n",
       "    <tr>\n",
       "      <th>3</th>\n",
       "      <td>main-course</td>\n",
       "      <td>Lemony Lentil Soup</td>\n",
       "      <td>Stovetop Instructions:  Sauté the veggies. Hea...</td>\n",
       "      <td>1 tablespoon olive oil 1 medium white onion, p...</td>\n",
       "    </tr>\n",
       "    <tr>\n",
       "      <th>4</th>\n",
       "      <td>main-course</td>\n",
       "      <td>Guinness Beef Stew</td>\n",
       "      <td>Sear the beef. Generously season the beef with...</td>\n",
       "      <td>3 tablespoons olive oil, divided 3 pounds beef...</td>\n",
       "    </tr>\n",
       "  </tbody>\n",
       "</table>\n",
       "</div>"
      ],
      "text/plain": [
       "           cat                            Title  \\\n",
       "0  main-course  Gnocchi, Mushroom and Kale Soup   \n",
       "1  main-course         Greek Salmon Salad Bowls   \n",
       "2  main-course             Pasta alla Boscaiola   \n",
       "3  main-course               Lemony Lentil Soup   \n",
       "4  main-course               Guinness Beef Stew   \n",
       "\n",
       "                                        instructions  \\\n",
       "0  Sauté the veggies. Heat oil in a large stockpo...   \n",
       "1  Cook the salmon. Season the salmon with a few ...   \n",
       "2  Soften the mushrooms. In a medium saucepan, st...   \n",
       "3  Stovetop Instructions:  Sauté the veggies. Hea...   \n",
       "4  Sear the beef. Generously season the beef with...   \n",
       "\n",
       "                                         ingredients  \n",
       "0  2 tablespoons olive oil 1 medium white onion, ...  \n",
       "1  1 pound salmon filets fine sea salt and freshl...  \n",
       "2  3 cups vegetable broth 1 ounce dried porcini m...  \n",
       "3  1 tablespoon olive oil 1 medium white onion, p...  \n",
       "4  3 tablespoons olive oil, divided 3 pounds beef...  "
      ]
     },
     "execution_count": 3,
     "metadata": {},
     "output_type": "execute_result"
    }
   ],
   "source": [
    "ed = pd.read_csv('GSOScrapped.csv')\n",
    "print(ed.shape)\n",
    "ed.head()"
   ]
  },
  {
   "cell_type": "code",
   "execution_count": 4,
   "metadata": {},
   "outputs": [],
   "source": [
    "ed.drop_duplicates('Title').shape\n",
    "ed = ed.drop_duplicates('Title')"
   ]
  },
  {
   "cell_type": "code",
   "execution_count": 5,
   "metadata": {},
   "outputs": [
    {
     "data": {
      "text/plain": [
       "(1502, 4)"
      ]
     },
     "execution_count": 5,
     "metadata": {},
     "output_type": "execute_result"
    }
   ],
   "source": [
    "ed.shape"
   ]
  },
  {
   "cell_type": "code",
   "execution_count": 6,
   "metadata": {},
   "outputs": [
    {
     "data": {
      "text/plain": [
       "Index(['cat', 'title', 'ingredients', 'instructions'], dtype='object')"
      ]
     },
     "execution_count": 6,
     "metadata": {},
     "output_type": "execute_result"
    }
   ],
   "source": [
    "colin.columns"
   ]
  },
  {
   "cell_type": "code",
   "execution_count": 7,
   "metadata": {},
   "outputs": [
    {
     "data": {
      "text/plain": [
       "Index(['cat', 'Title', 'instructions', 'ingredients'], dtype='object')"
      ]
     },
     "execution_count": 7,
     "metadata": {},
     "output_type": "execute_result"
    }
   ],
   "source": [
    "ed.columns"
   ]
  },
  {
   "cell_type": "code",
   "execution_count": 8,
   "metadata": {},
   "outputs": [
    {
     "data": {
      "text/plain": [
       "Index(['cat', 'title', 'instructions', 'ingredients'], dtype='object')"
      ]
     },
     "execution_count": 8,
     "metadata": {},
     "output_type": "execute_result"
    }
   ],
   "source": [
    "ed = ed.rename(columns={'Title':'title'})\n",
    "ed.columns"
   ]
  },
  {
   "cell_type": "code",
   "execution_count": 9,
   "metadata": {},
   "outputs": [
    {
     "data": {
      "text/plain": [
       "(2760, 4)"
      ]
     },
     "execution_count": 9,
     "metadata": {},
     "output_type": "execute_result"
    }
   ],
   "source": [
    "merged = colin.append(ed).reset_index().drop('index',axis=1)\n",
    "merged.shape"
   ]
  },
  {
   "cell_type": "code",
   "execution_count": 10,
   "metadata": {},
   "outputs": [
    {
     "data": {
      "text/html": [
       "<div>\n",
       "<style scoped>\n",
       "    .dataframe tbody tr th:only-of-type {\n",
       "        vertical-align: middle;\n",
       "    }\n",
       "\n",
       "    .dataframe tbody tr th {\n",
       "        vertical-align: top;\n",
       "    }\n",
       "\n",
       "    .dataframe thead th {\n",
       "        text-align: right;\n",
       "    }\n",
       "</style>\n",
       "<table border=\"1\" class=\"dataframe\">\n",
       "  <thead>\n",
       "    <tr style=\"text-align: right;\">\n",
       "      <th></th>\n",
       "      <th>cat</th>\n",
       "      <th>title</th>\n",
       "      <th>ingredients</th>\n",
       "      <th>instructions</th>\n",
       "    </tr>\n",
       "  </thead>\n",
       "  <tbody>\n",
       "    <tr>\n",
       "      <th>0</th>\n",
       "      <td>appetizer</td>\n",
       "      <td>Apple Cranberry Pecan Salad</td>\n",
       "      <td>6 cups baby spinach 1 Granny Smith apple, thi...</td>\n",
       "      <td>To make the vinaigrette, whisk together olive...</td>\n",
       "    </tr>\n",
       "    <tr>\n",
       "      <th>1</th>\n",
       "      <td>salad</td>\n",
       "      <td>Asian Pasta Salad</td>\n",
       "      <td>8 ounces elbows pasta 1 California Avocado, h...</td>\n",
       "      <td>To make the dressing, whisk together soy sauc...</td>\n",
       "    </tr>\n",
       "    <tr>\n",
       "      <th>2</th>\n",
       "      <td>quick-easy</td>\n",
       "      <td>Vegetable Kabobs</td>\n",
       "      <td>2 cups cremini mushrooms 1 cup cherry tomatoe...</td>\n",
       "      <td>Preheat oven to 400 degrees F. In a small bow...</td>\n",
       "    </tr>\n",
       "    <tr>\n",
       "      <th>3</th>\n",
       "      <td>salad</td>\n",
       "      <td>Harvest Cobb Salad</td>\n",
       "      <td>4 slices bacon, diced 2 large eggs 6 cups cho...</td>\n",
       "      <td>To make the poppy seed dressing, whisk togeth...</td>\n",
       "    </tr>\n",
       "    <tr>\n",
       "      <th>4</th>\n",
       "      <td>chicken-recipes</td>\n",
       "      <td>Quick Chicken and Broccoli Stir Fry</td>\n",
       "      <td>1 pound boneless, skinless chicken breasts, c...</td>\n",
       "      <td>In a small bowl, whisk together soy sauce, oy...</td>\n",
       "    </tr>\n",
       "  </tbody>\n",
       "</table>\n",
       "</div>"
      ],
      "text/plain": [
       "               cat                                title  \\\n",
       "0        appetizer          Apple Cranberry Pecan Salad   \n",
       "1            salad                    Asian Pasta Salad   \n",
       "2       quick-easy                     Vegetable Kabobs   \n",
       "3            salad                   Harvest Cobb Salad   \n",
       "4  chicken-recipes  Quick Chicken and Broccoli Stir Fry   \n",
       "\n",
       "                                         ingredients  \\\n",
       "0   6 cups baby spinach 1 Granny Smith apple, thi...   \n",
       "1   8 ounces elbows pasta 1 California Avocado, h...   \n",
       "2   2 cups cremini mushrooms 1 cup cherry tomatoe...   \n",
       "3   4 slices bacon, diced 2 large eggs 6 cups cho...   \n",
       "4   1 pound boneless, skinless chicken breasts, c...   \n",
       "\n",
       "                                        instructions  \n",
       "0   To make the vinaigrette, whisk together olive...  \n",
       "1   To make the dressing, whisk together soy sauc...  \n",
       "2   Preheat oven to 400 degrees F. In a small bow...  \n",
       "3   To make the poppy seed dressing, whisk togeth...  \n",
       "4   In a small bowl, whisk together soy sauce, oy...  "
      ]
     },
     "execution_count": 10,
     "metadata": {},
     "output_type": "execute_result"
    }
   ],
   "source": [
    "merged.head()"
   ]
  },
  {
   "cell_type": "code",
   "execution_count": 22,
   "metadata": {},
   "outputs": [],
   "source": [
    "if( 'dip' in merged[merged.cat == 'game-day'].title):\n",
    "    print('yes')"
   ]
  },
  {
   "cell_type": "code",
   "execution_count": 32,
   "metadata": {},
   "outputs": [
    {
     "name": "stdout",
     "output_type": "stream",
     "text": [
      "Slow Cooker Corn and Jalapeno Dip\n",
      "Crab Rangoon Dip\n",
      "Beef Queso Dip\n",
      "Beef Enchilada Dip\n",
      "Hot Cheesy Corn Dip\n",
      "Cheesy Bacon Spinach Dip\n",
      "Bacon Corn Dip\n",
      "French Onion Dip\n"
     ]
    }
   ],
   "source": [
    "for x in merged[merged.cat == 'game-day'].title:\n",
    "    if('Dip' in x):\n",
    "        print(x)"
   ]
  },
  {
   "cell_type": "code",
   "execution_count": 33,
   "metadata": {},
   "outputs": [
    {
     "data": {
      "text/html": [
       "<div>\n",
       "<style scoped>\n",
       "    .dataframe tbody tr th:only-of-type {\n",
       "        vertical-align: middle;\n",
       "    }\n",
       "\n",
       "    .dataframe tbody tr th {\n",
       "        vertical-align: top;\n",
       "    }\n",
       "\n",
       "    .dataframe thead th {\n",
       "        text-align: right;\n",
       "    }\n",
       "</style>\n",
       "<table border=\"1\" class=\"dataframe\">\n",
       "  <thead>\n",
       "    <tr style=\"text-align: right;\">\n",
       "      <th></th>\n",
       "      <th>cat</th>\n",
       "      <th>title</th>\n",
       "      <th>ingredients</th>\n",
       "      <th>instructions</th>\n",
       "    </tr>\n",
       "  </thead>\n",
       "  <tbody>\n",
       "    <tr>\n",
       "      <th>500</th>\n",
       "      <td>meal-prep</td>\n",
       "      <td>Chicken Burrito Bowl Meal Prep</td>\n",
       "      <td>1 cup brown rice 1 tablespoon olive oil 1 1/2...</td>\n",
       "      <td>To make the chipotle cream sauce, whisk toget...</td>\n",
       "    </tr>\n",
       "    <tr>\n",
       "      <th>575</th>\n",
       "      <td>meal-prep</td>\n",
       "      <td>Ham, Egg and Cheese Breakfast Quesadillas</td>\n",
       "      <td>1 tablespoon olive oil 2 cloves garlic, mince...</td>\n",
       "      <td>Preheat oven to 400 degrees F. Line a baking ...</td>\n",
       "    </tr>\n",
       "    <tr>\n",
       "      <th>695</th>\n",
       "      <td>meal-prep</td>\n",
       "      <td>Shrimp Fried Rice Meal Prep</td>\n",
       "      <td>1 1/2 cups brown rice 1 pound green beans, tr...</td>\n",
       "      <td>In a large saucepan of 3 cups water, cook ric...</td>\n",
       "    </tr>\n",
       "    <tr>\n",
       "      <th>707</th>\n",
       "      <td>meal-prep</td>\n",
       "      <td>Korean Beef Bowl Meal Prep</td>\n",
       "      <td>1 cup brown rice 4 large eggs 2 tablespoons o...</td>\n",
       "      <td>In a large saucepan filled with 2 cups of wat...</td>\n",
       "    </tr>\n",
       "    <tr>\n",
       "      <th>731</th>\n",
       "      <td>meal-prep</td>\n",
       "      <td>Chicken Tikka Masala Meal Prep</td>\n",
       "      <td>1 cup basmati rice 2 tablespoons unsalted but...</td>\n",
       "      <td>In a large saucepan of 2 cups water, cook ric...</td>\n",
       "    </tr>\n",
       "    <tr>\n",
       "      <th>732</th>\n",
       "      <td>meal-prep</td>\n",
       "      <td>Chicken Shawarma Meal Prep</td>\n",
       "      <td>1 cup brown rice 1 1/2 pounds boneless, skinl...</td>\n",
       "      <td>In a large saucepan of 2 cups water, cook ric...</td>\n",
       "    </tr>\n",
       "    <tr>\n",
       "      <th>738</th>\n",
       "      <td>meal-prep</td>\n",
       "      <td>Quick Beef and Broccoli Meal Prep</td>\n",
       "      <td>1 cup brown rice 1/4 cup reduced sodium soy s...</td>\n",
       "      <td>In a large saucepan of 2 cups water, cook ric...</td>\n",
       "    </tr>\n",
       "    <tr>\n",
       "      <th>742</th>\n",
       "      <td>meal-prep</td>\n",
       "      <td>Taco Meal Prep Bowls</td>\n",
       "      <td>1 cup brown rice 2 tablespoons olive oil 2 po...</td>\n",
       "      <td>In a large saucepan of 2 cups water, cook ric...</td>\n",
       "    </tr>\n",
       "    <tr>\n",
       "      <th>746</th>\n",
       "      <td>meal-prep</td>\n",
       "      <td>Avocado and Egg Breakfast Meal Prep</td>\n",
       "      <td>1/2 cup brown rice 6 large eggs 2 tablespoons...</td>\n",
       "      <td>In a large saucepan of 1 cup water, cook rice...</td>\n",
       "    </tr>\n",
       "    <tr>\n",
       "      <th>861</th>\n",
       "      <td>meal-prep</td>\n",
       "      <td>Carne Asada Burrito Bowls</td>\n",
       "      <td>For the carne asada  1/2 cup chopped fresh cil...</td>\n",
       "      <td>For the carne asada  In a medium bowl, combine...</td>\n",
       "    </tr>\n",
       "    <tr>\n",
       "      <th>930</th>\n",
       "      <td>meal-prep</td>\n",
       "      <td>Breakfast Meal Prep</td>\n",
       "      <td>12 ounces russet potatoes, diced* 3 tablespoo...</td>\n",
       "      <td>Preheat oven to 400 degrees F. Lightly oil a ...</td>\n",
       "    </tr>\n",
       "    <tr>\n",
       "      <th>1217</th>\n",
       "      <td>meal-prep</td>\n",
       "      <td>Copycat Starbucks Cheese and Fruit Bistro Box</td>\n",
       "      <td>1 ounce aged cheddar cheese, sliced 1 ounce G...</td>\n",
       "      <td>Place cheeses, crackers, apple, almonds and c...</td>\n",
       "    </tr>\n",
       "    <tr>\n",
       "      <th>1218</th>\n",
       "      <td>meal-prep</td>\n",
       "      <td>Turkey Taco Salad Meal Prep</td>\n",
       "      <td>1 tablespoon olive oil 1 1/2 pounds ground tu...</td>\n",
       "      <td>Heat olive oil in a large stockpot or Dutch o...</td>\n",
       "    </tr>\n",
       "    <tr>\n",
       "      <th>1219</th>\n",
       "      <td>meal-prep</td>\n",
       "      <td>Tuna Salad Meal Prep</td>\n",
       "      <td>2 (5-ounce) cans tuna in water, drained and f...</td>\n",
       "      <td>In a medium bowl, combine tuna, Greek yogurt,...</td>\n",
       "    </tr>\n",
       "    <tr>\n",
       "      <th>1220</th>\n",
       "      <td>meal-prep</td>\n",
       "      <td>Copycat Starbucks PB&amp;J Bistro Box</td>\n",
       "      <td>6 slices whole wheat bread 1/4 cup peanut but...</td>\n",
       "      <td>Spread 2 tablespoons peanut butter over 1 sli...</td>\n",
       "    </tr>\n",
       "    <tr>\n",
       "      <th>1221</th>\n",
       "      <td>meal-prep</td>\n",
       "      <td>Shrimp Zucchini Noodles Meal Prep</td>\n",
       "      <td>2 tablespoons unsalted butter 2 tablespoons o...</td>\n",
       "      <td>Combine butter and olive oil in a large skill...</td>\n",
       "    </tr>\n",
       "    <tr>\n",
       "      <th>1222</th>\n",
       "      <td>meal-prep</td>\n",
       "      <td>Turkey Spinach Pinwheels Meal Prep</td>\n",
       "      <td>1 slice cheddar cheese 2 ounces thinly sliced...</td>\n",
       "      <td>Place cheese, turkey and spinach in center of...</td>\n",
       "    </tr>\n",
       "    <tr>\n",
       "      <th>1223</th>\n",
       "      <td>meal-prep</td>\n",
       "      <td>Peanut Butter and Banana Roll Ups Snack Box</td>\n",
       "      <td>1 (8-inch) whole wheat tortilla 1 tablespoon ...</td>\n",
       "      <td>Spread tortilla with peanut butter. Place ban...</td>\n",
       "    </tr>\n",
       "    <tr>\n",
       "      <th>1224</th>\n",
       "      <td>meal-prep</td>\n",
       "      <td>DIY Pizza Lunchables</td>\n",
       "      <td>4 pita bites crackers 2 tablespoons reduced f...</td>\n",
       "      <td>Place crackers, cheese, pizza sauce, almonds,...</td>\n",
       "    </tr>\n",
       "    <tr>\n",
       "      <th>1225</th>\n",
       "      <td>meal-prep</td>\n",
       "      <td>Deli Snack Box</td>\n",
       "      <td>2 ounces thinly sliced turkey breast 1 large ...</td>\n",
       "      <td>Place turkey, egg, tomatoes, cheese, crackers...</td>\n",
       "    </tr>\n",
       "  </tbody>\n",
       "</table>\n",
       "</div>"
      ],
      "text/plain": [
       "            cat                                          title  \\\n",
       "500   meal-prep                 Chicken Burrito Bowl Meal Prep   \n",
       "575   meal-prep      Ham, Egg and Cheese Breakfast Quesadillas   \n",
       "695   meal-prep                    Shrimp Fried Rice Meal Prep   \n",
       "707   meal-prep                     Korean Beef Bowl Meal Prep   \n",
       "731   meal-prep                 Chicken Tikka Masala Meal Prep   \n",
       "732   meal-prep                     Chicken Shawarma Meal Prep   \n",
       "738   meal-prep              Quick Beef and Broccoli Meal Prep   \n",
       "742   meal-prep                           Taco Meal Prep Bowls   \n",
       "746   meal-prep            Avocado and Egg Breakfast Meal Prep   \n",
       "861   meal-prep                      Carne Asada Burrito Bowls   \n",
       "930   meal-prep                            Breakfast Meal Prep   \n",
       "1217  meal-prep  Copycat Starbucks Cheese and Fruit Bistro Box   \n",
       "1218  meal-prep                    Turkey Taco Salad Meal Prep   \n",
       "1219  meal-prep                           Tuna Salad Meal Prep   \n",
       "1220  meal-prep              Copycat Starbucks PB&J Bistro Box   \n",
       "1221  meal-prep              Shrimp Zucchini Noodles Meal Prep   \n",
       "1222  meal-prep             Turkey Spinach Pinwheels Meal Prep   \n",
       "1223  meal-prep    Peanut Butter and Banana Roll Ups Snack Box   \n",
       "1224  meal-prep                           DIY Pizza Lunchables   \n",
       "1225  meal-prep                                 Deli Snack Box   \n",
       "\n",
       "                                            ingredients  \\\n",
       "500    1 cup brown rice 1 tablespoon olive oil 1 1/2...   \n",
       "575    1 tablespoon olive oil 2 cloves garlic, mince...   \n",
       "695    1 1/2 cups brown rice 1 pound green beans, tr...   \n",
       "707    1 cup brown rice 4 large eggs 2 tablespoons o...   \n",
       "731    1 cup basmati rice 2 tablespoons unsalted but...   \n",
       "732    1 cup brown rice 1 1/2 pounds boneless, skinl...   \n",
       "738    1 cup brown rice 1/4 cup reduced sodium soy s...   \n",
       "742    1 cup brown rice 2 tablespoons olive oil 2 po...   \n",
       "746    1/2 cup brown rice 6 large eggs 2 tablespoons...   \n",
       "861   For the carne asada  1/2 cup chopped fresh cil...   \n",
       "930    12 ounces russet potatoes, diced* 3 tablespoo...   \n",
       "1217   1 ounce aged cheddar cheese, sliced 1 ounce G...   \n",
       "1218   1 tablespoon olive oil 1 1/2 pounds ground tu...   \n",
       "1219   2 (5-ounce) cans tuna in water, drained and f...   \n",
       "1220   6 slices whole wheat bread 1/4 cup peanut but...   \n",
       "1221   2 tablespoons unsalted butter 2 tablespoons o...   \n",
       "1222   1 slice cheddar cheese 2 ounces thinly sliced...   \n",
       "1223   1 (8-inch) whole wheat tortilla 1 tablespoon ...   \n",
       "1224   4 pita bites crackers 2 tablespoons reduced f...   \n",
       "1225   2 ounces thinly sliced turkey breast 1 large ...   \n",
       "\n",
       "                                           instructions  \n",
       "500    To make the chipotle cream sauce, whisk toget...  \n",
       "575    Preheat oven to 400 degrees F. Line a baking ...  \n",
       "695    In a large saucepan of 3 cups water, cook ric...  \n",
       "707    In a large saucepan filled with 2 cups of wat...  \n",
       "731    In a large saucepan of 2 cups water, cook ric...  \n",
       "732    In a large saucepan of 2 cups water, cook ric...  \n",
       "738    In a large saucepan of 2 cups water, cook ric...  \n",
       "742    In a large saucepan of 2 cups water, cook ric...  \n",
       "746    In a large saucepan of 1 cup water, cook rice...  \n",
       "861   For the carne asada  In a medium bowl, combine...  \n",
       "930    Preheat oven to 400 degrees F. Lightly oil a ...  \n",
       "1217   Place cheeses, crackers, apple, almonds and c...  \n",
       "1218   Heat olive oil in a large stockpot or Dutch o...  \n",
       "1219   In a medium bowl, combine tuna, Greek yogurt,...  \n",
       "1220   Spread 2 tablespoons peanut butter over 1 sli...  \n",
       "1221   Combine butter and olive oil in a large skill...  \n",
       "1222   Place cheese, turkey and spinach in center of...  \n",
       "1223   Spread tortilla with peanut butter. Place ban...  \n",
       "1224   Place crackers, cheese, pizza sauce, almonds,...  \n",
       "1225   Place turkey, egg, tomatoes, cheese, crackers...  "
      ]
     },
     "execution_count": 33,
     "metadata": {},
     "output_type": "execute_result"
    }
   ],
   "source": [
    "merged[merged.cat == 'meal-prep'].head(20)"
   ]
  },
  {
   "cell_type": "code",
   "execution_count": 12,
   "metadata": {},
   "outputs": [
    {
     "data": {
      "text/plain": [
       "main-course            695\n",
       "dessert                343\n",
       "breakfast              196\n",
       "quick-easy             164\n",
       "appetizer              131\n",
       "appetizers             104\n",
       "chicken-recipes        100\n",
       "asian-inspired          87\n",
       "drinks                  81\n",
       "pasta                   79\n",
       "soup                    76\n",
       "salad                   70\n",
       "vegetarian              58\n",
       "side-dish               55\n",
       "slow-cooker             43\n",
       "one-pot                 39\n",
       "entree                  38\n",
       "summer                  36\n",
       "game-day                35\n",
       "healthy                 28\n",
       "drink                   26\n",
       "christmas               26\n",
       "instant-pot-recipes     26\n",
       "thanksgiving            25\n",
       "beverages               24\n",
       "baked-goods             21\n",
       "dip                     21\n",
       "meal-prep               21\n",
       "fall                    20\n",
       "pastas                  14\n",
       "snacks                  14\n",
       "salsas-sauces           14\n",
       "smoothies               13\n",
       "sandwiches              12\n",
       "pizzas                  12\n",
       "bread                    7\n",
       "spreads                  6\n",
       "Name: cat, dtype: int64"
      ]
     },
     "execution_count": 12,
     "metadata": {},
     "output_type": "execute_result"
    }
   ],
   "source": [
    "merged.cat.value_counts()"
   ]
  },
  {
   "cell_type": "code",
   "execution_count": 34,
   "metadata": {},
   "outputs": [
    {
     "data": {
      "text/plain": [
       "main-course        745\n",
       "dessert            343\n",
       "appetizers         304\n",
       "quick-easy         197\n",
       "breakfast          196\n",
       "drinks             144\n",
       "vegetarian         128\n",
       "chicken-recipes    100\n",
       "pasta               93\n",
       "asian-inspired      87\n",
       "soup                76\n",
       "slow-cooker         69\n",
       "seasonal            56\n",
       "holiday             51\n",
       "sauces              41\n",
       "one-pot             39\n",
       "game-day            35\n",
       "baked-goods         28\n",
       "healthy             28\n",
       "Name: cat, dtype: int64"
      ]
     },
     "execution_count": 34,
     "metadata": {},
     "output_type": "execute_result"
    }
   ],
   "source": [
    "merged.loc[merged.cat == 'appetizer', 'cat'] = 'appetizers'\n",
    "merged.loc[merged.cat == 'pastas', 'cat'] = 'pasta'\n",
    "merged.loc[merged.cat == 'bread', 'cat'] = 'baked-goods'\n",
    "merged.loc[merged.cat == 'snacks', 'cat'] = 'appetizers'\n",
    "merged.loc[merged.cat == 'beverages', 'cat'] = 'drinks'\n",
    "merged.loc[merged.cat == 'entree','cat'] = 'main-course'\n",
    "merged.loc[merged.cat == 'drink', 'cat'] = 'drinks'\n",
    "merged.loc[merged.cat == 'smoothies', 'cat'] = 'drinks'\n",
    "merged.loc[merged.cat == 'spreads', 'cat'] = 'sauces'\n",
    "merged.loc[merged.cat == 'salsas-sauces', 'cat'] = 'sauces'\n",
    "merged.loc[merged.cat == 'dip', 'cat'] = 'sauces'\n",
    "merged.loc[merged.cat == 'pizzas', 'cat'] = 'main-course'\n",
    "merged.loc[merged.cat == 'sandwiches', 'cat'] = 'quick-easy'\n",
    "merged.loc[merged.cat == 'fall', 'cat'] = 'seasonal'\n",
    "merged.loc[merged.cat == 'summer', 'cat'] = 'seasonal'\n",
    "merged.loc[merged.cat == 'side-dish', 'cat'] = 'appetizers'\n",
    "merged.loc[merged.cat == 'salad', 'cat'] = 'vegetarian'\n",
    "merged.loc[merged.cat == 'meal-prep', 'cat'] = 'quick-easy'\n",
    "merged.loc[merged.cat == 'thanksgiving', 'cat'] = 'holiday'\n",
    "merged.loc[merged.cat == 'christmas', 'cat'] = 'holiday'\n",
    "merged.loc[merged.cat == 'instant-pot-recipes', 'cat'] = 'slow-cooker'\n",
    "\n",
    "merged.cat.value_counts()"
   ]
  },
  {
   "cell_type": "code",
   "execution_count": 35,
   "metadata": {},
   "outputs": [
    {
     "data": {
      "text/plain": [
       "19"
      ]
     },
     "execution_count": 35,
     "metadata": {},
     "output_type": "execute_result"
    }
   ],
   "source": [
    "len(merged.cat.value_counts())"
   ]
  },
  {
   "cell_type": "code",
   "execution_count": 36,
   "metadata": {},
   "outputs": [
    {
     "data": {
      "text/html": [
       "<div>\n",
       "<style scoped>\n",
       "    .dataframe tbody tr th:only-of-type {\n",
       "        vertical-align: middle;\n",
       "    }\n",
       "\n",
       "    .dataframe tbody tr th {\n",
       "        vertical-align: top;\n",
       "    }\n",
       "\n",
       "    .dataframe thead th {\n",
       "        text-align: right;\n",
       "    }\n",
       "</style>\n",
       "<table border=\"1\" class=\"dataframe\">\n",
       "  <thead>\n",
       "    <tr style=\"text-align: right;\">\n",
       "      <th></th>\n",
       "      <th>cat</th>\n",
       "      <th>title</th>\n",
       "      <th>ingredients</th>\n",
       "      <th>instructions</th>\n",
       "    </tr>\n",
       "  </thead>\n",
       "  <tbody>\n",
       "    <tr>\n",
       "      <th>0</th>\n",
       "      <td>appetizers</td>\n",
       "      <td>Apple Cranberry Pecan Salad</td>\n",
       "      <td>6 cups baby spinach 1 Granny Smith apple, thi...</td>\n",
       "      <td>To make the vinaigrette, whisk together olive...</td>\n",
       "    </tr>\n",
       "    <tr>\n",
       "      <th>1</th>\n",
       "      <td>vegetarian</td>\n",
       "      <td>Asian Pasta Salad</td>\n",
       "      <td>8 ounces elbows pasta 1 California Avocado, h...</td>\n",
       "      <td>To make the dressing, whisk together soy sauc...</td>\n",
       "    </tr>\n",
       "    <tr>\n",
       "      <th>2</th>\n",
       "      <td>quick-easy</td>\n",
       "      <td>Vegetable Kabobs</td>\n",
       "      <td>2 cups cremini mushrooms 1 cup cherry tomatoe...</td>\n",
       "      <td>Preheat oven to 400 degrees F. In a small bow...</td>\n",
       "    </tr>\n",
       "    <tr>\n",
       "      <th>3</th>\n",
       "      <td>vegetarian</td>\n",
       "      <td>Harvest Cobb Salad</td>\n",
       "      <td>4 slices bacon, diced 2 large eggs 6 cups cho...</td>\n",
       "      <td>To make the poppy seed dressing, whisk togeth...</td>\n",
       "    </tr>\n",
       "    <tr>\n",
       "      <th>4</th>\n",
       "      <td>chicken-recipes</td>\n",
       "      <td>Quick Chicken and Broccoli Stir Fry</td>\n",
       "      <td>1 pound boneless, skinless chicken breasts, c...</td>\n",
       "      <td>In a small bowl, whisk together soy sauce, oy...</td>\n",
       "    </tr>\n",
       "  </tbody>\n",
       "</table>\n",
       "</div>"
      ],
      "text/plain": [
       "               cat                                title  \\\n",
       "0       appetizers          Apple Cranberry Pecan Salad   \n",
       "1       vegetarian                    Asian Pasta Salad   \n",
       "2       quick-easy                     Vegetable Kabobs   \n",
       "3       vegetarian                   Harvest Cobb Salad   \n",
       "4  chicken-recipes  Quick Chicken and Broccoli Stir Fry   \n",
       "\n",
       "                                         ingredients  \\\n",
       "0   6 cups baby spinach 1 Granny Smith apple, thi...   \n",
       "1   8 ounces elbows pasta 1 California Avocado, h...   \n",
       "2   2 cups cremini mushrooms 1 cup cherry tomatoe...   \n",
       "3   4 slices bacon, diced 2 large eggs 6 cups cho...   \n",
       "4   1 pound boneless, skinless chicken breasts, c...   \n",
       "\n",
       "                                        instructions  \n",
       "0   To make the vinaigrette, whisk together olive...  \n",
       "1   To make the dressing, whisk together soy sauc...  \n",
       "2   Preheat oven to 400 degrees F. In a small bow...  \n",
       "3   To make the poppy seed dressing, whisk togeth...  \n",
       "4   In a small bowl, whisk together soy sauce, oy...  "
      ]
     },
     "execution_count": 36,
     "metadata": {},
     "output_type": "execute_result"
    }
   ],
   "source": [
    "merged.head()"
   ]
  },
  {
   "cell_type": "code",
   "execution_count": null,
   "metadata": {},
   "outputs": [],
   "source": []
  }
 ],
 "metadata": {
  "kernelspec": {
   "display_name": "Python 3",
   "language": "python",
   "name": "python3"
  },
  "language_info": {
   "codemirror_mode": {
    "name": "ipython",
    "version": 3
   },
   "file_extension": ".py",
   "mimetype": "text/x-python",
   "name": "python",
   "nbconvert_exporter": "python",
   "pygments_lexer": "ipython3",
   "version": "3.8.8"
  }
 },
 "nbformat": 4,
 "nbformat_minor": 4
}
